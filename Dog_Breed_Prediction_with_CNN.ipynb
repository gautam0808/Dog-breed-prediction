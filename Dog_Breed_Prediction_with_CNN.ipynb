{
  "nbformat": 4,
  "nbformat_minor": 0,
  "metadata": {
    "colab": {
      "provenance": []
    },
    "kernelspec": {
      "name": "python3",
      "display_name": "Python 3"
    },
    "language_info": {
      "name": "python"
    }
  },
  "cells": [
    {
      "cell_type": "markdown",
      "source": [
        "# DOG BREED PREDICTION"
      ],
      "metadata": {
        "id": "NZxyUZ3bI2vn"
      }
    },
    {
      "cell_type": "markdown",
      "source": [
        "In this project, we will see how to use Keras and TensorFlow to build, train, and test a Convolutional Neural Network capable of identifying the breed of a dog in a supplied image. This is a supervised learning problem, specifically a multiclass classification problem."
      ],
      "metadata": {
        "id": "HNn8KRs8iikK"
      }
    },
    {
      "cell_type": "markdown",
      "source": [
        "We will start by connecting to Kaggle using Kaggle API which can be downloaded from your Kaggle account's settings and uploading it here(upload box)."
      ],
      "metadata": {
        "id": "X503yMqAinys"
      }
    },
    {
      "cell_type": "code",
      "execution_count": 1,
      "metadata": {
        "colab": {
          "base_uri": "https://localhost:8080/",
          "height": 91
        },
        "id": "IFaS2S11Hsse",
        "outputId": "6eb00743-adb3-4d58-b08f-d8d79f720d2b"
      },
      "outputs": [
        {
          "output_type": "display_data",
          "data": {
            "text/plain": [
              "<IPython.core.display.HTML object>"
            ],
            "text/html": [
              "\n",
              "     <input type=\"file\" id=\"files-04be4681-01ae-4360-a4da-d763ade128f4\" name=\"files[]\" multiple disabled\n",
              "        style=\"border:none\" />\n",
              "     <output id=\"result-04be4681-01ae-4360-a4da-d763ade128f4\">\n",
              "      Upload widget is only available when the cell has been executed in the\n",
              "      current browser session. Please rerun this cell to enable.\n",
              "      </output>\n",
              "      <script>// Copyright 2017 Google LLC\n",
              "//\n",
              "// Licensed under the Apache License, Version 2.0 (the \"License\");\n",
              "// you may not use this file except in compliance with the License.\n",
              "// You may obtain a copy of the License at\n",
              "//\n",
              "//      http://www.apache.org/licenses/LICENSE-2.0\n",
              "//\n",
              "// Unless required by applicable law or agreed to in writing, software\n",
              "// distributed under the License is distributed on an \"AS IS\" BASIS,\n",
              "// WITHOUT WARRANTIES OR CONDITIONS OF ANY KIND, either express or implied.\n",
              "// See the License for the specific language governing permissions and\n",
              "// limitations under the License.\n",
              "\n",
              "/**\n",
              " * @fileoverview Helpers for google.colab Python module.\n",
              " */\n",
              "(function(scope) {\n",
              "function span(text, styleAttributes = {}) {\n",
              "  const element = document.createElement('span');\n",
              "  element.textContent = text;\n",
              "  for (const key of Object.keys(styleAttributes)) {\n",
              "    element.style[key] = styleAttributes[key];\n",
              "  }\n",
              "  return element;\n",
              "}\n",
              "\n",
              "// Max number of bytes which will be uploaded at a time.\n",
              "const MAX_PAYLOAD_SIZE = 100 * 1024;\n",
              "\n",
              "function _uploadFiles(inputId, outputId) {\n",
              "  const steps = uploadFilesStep(inputId, outputId);\n",
              "  const outputElement = document.getElementById(outputId);\n",
              "  // Cache steps on the outputElement to make it available for the next call\n",
              "  // to uploadFilesContinue from Python.\n",
              "  outputElement.steps = steps;\n",
              "\n",
              "  return _uploadFilesContinue(outputId);\n",
              "}\n",
              "\n",
              "// This is roughly an async generator (not supported in the browser yet),\n",
              "// where there are multiple asynchronous steps and the Python side is going\n",
              "// to poll for completion of each step.\n",
              "// This uses a Promise to block the python side on completion of each step,\n",
              "// then passes the result of the previous step as the input to the next step.\n",
              "function _uploadFilesContinue(outputId) {\n",
              "  const outputElement = document.getElementById(outputId);\n",
              "  const steps = outputElement.steps;\n",
              "\n",
              "  const next = steps.next(outputElement.lastPromiseValue);\n",
              "  return Promise.resolve(next.value.promise).then((value) => {\n",
              "    // Cache the last promise value to make it available to the next\n",
              "    // step of the generator.\n",
              "    outputElement.lastPromiseValue = value;\n",
              "    return next.value.response;\n",
              "  });\n",
              "}\n",
              "\n",
              "/**\n",
              " * Generator function which is called between each async step of the upload\n",
              " * process.\n",
              " * @param {string} inputId Element ID of the input file picker element.\n",
              " * @param {string} outputId Element ID of the output display.\n",
              " * @return {!Iterable<!Object>} Iterable of next steps.\n",
              " */\n",
              "function* uploadFilesStep(inputId, outputId) {\n",
              "  const inputElement = document.getElementById(inputId);\n",
              "  inputElement.disabled = false;\n",
              "\n",
              "  const outputElement = document.getElementById(outputId);\n",
              "  outputElement.innerHTML = '';\n",
              "\n",
              "  const pickedPromise = new Promise((resolve) => {\n",
              "    inputElement.addEventListener('change', (e) => {\n",
              "      resolve(e.target.files);\n",
              "    });\n",
              "  });\n",
              "\n",
              "  const cancel = document.createElement('button');\n",
              "  inputElement.parentElement.appendChild(cancel);\n",
              "  cancel.textContent = 'Cancel upload';\n",
              "  const cancelPromise = new Promise((resolve) => {\n",
              "    cancel.onclick = () => {\n",
              "      resolve(null);\n",
              "    };\n",
              "  });\n",
              "\n",
              "  // Wait for the user to pick the files.\n",
              "  const files = yield {\n",
              "    promise: Promise.race([pickedPromise, cancelPromise]),\n",
              "    response: {\n",
              "      action: 'starting',\n",
              "    }\n",
              "  };\n",
              "\n",
              "  cancel.remove();\n",
              "\n",
              "  // Disable the input element since further picks are not allowed.\n",
              "  inputElement.disabled = true;\n",
              "\n",
              "  if (!files) {\n",
              "    return {\n",
              "      response: {\n",
              "        action: 'complete',\n",
              "      }\n",
              "    };\n",
              "  }\n",
              "\n",
              "  for (const file of files) {\n",
              "    const li = document.createElement('li');\n",
              "    li.append(span(file.name, {fontWeight: 'bold'}));\n",
              "    li.append(span(\n",
              "        `(${file.type || 'n/a'}) - ${file.size} bytes, ` +\n",
              "        `last modified: ${\n",
              "            file.lastModifiedDate ? file.lastModifiedDate.toLocaleDateString() :\n",
              "                                    'n/a'} - `));\n",
              "    const percent = span('0% done');\n",
              "    li.appendChild(percent);\n",
              "\n",
              "    outputElement.appendChild(li);\n",
              "\n",
              "    const fileDataPromise = new Promise((resolve) => {\n",
              "      const reader = new FileReader();\n",
              "      reader.onload = (e) => {\n",
              "        resolve(e.target.result);\n",
              "      };\n",
              "      reader.readAsArrayBuffer(file);\n",
              "    });\n",
              "    // Wait for the data to be ready.\n",
              "    let fileData = yield {\n",
              "      promise: fileDataPromise,\n",
              "      response: {\n",
              "        action: 'continue',\n",
              "      }\n",
              "    };\n",
              "\n",
              "    // Use a chunked sending to avoid message size limits. See b/62115660.\n",
              "    let position = 0;\n",
              "    do {\n",
              "      const length = Math.min(fileData.byteLength - position, MAX_PAYLOAD_SIZE);\n",
              "      const chunk = new Uint8Array(fileData, position, length);\n",
              "      position += length;\n",
              "\n",
              "      const base64 = btoa(String.fromCharCode.apply(null, chunk));\n",
              "      yield {\n",
              "        response: {\n",
              "          action: 'append',\n",
              "          file: file.name,\n",
              "          data: base64,\n",
              "        },\n",
              "      };\n",
              "\n",
              "      let percentDone = fileData.byteLength === 0 ?\n",
              "          100 :\n",
              "          Math.round((position / fileData.byteLength) * 100);\n",
              "      percent.textContent = `${percentDone}% done`;\n",
              "\n",
              "    } while (position < fileData.byteLength);\n",
              "  }\n",
              "\n",
              "  // All done.\n",
              "  yield {\n",
              "    response: {\n",
              "      action: 'complete',\n",
              "    }\n",
              "  };\n",
              "}\n",
              "\n",
              "scope.google = scope.google || {};\n",
              "scope.google.colab = scope.google.colab || {};\n",
              "scope.google.colab._files = {\n",
              "  _uploadFiles,\n",
              "  _uploadFilesContinue,\n",
              "};\n",
              "})(self);\n",
              "</script> "
            ]
          },
          "metadata": {}
        },
        {
          "output_type": "stream",
          "name": "stdout",
          "text": [
            "Saving kaggle.json to kaggle.json\n"
          ]
        },
        {
          "output_type": "execute_result",
          "data": {
            "text/plain": [
              "{'kaggle.json': b'{\"username\":\"gdhall\",\"key\":\"16c7d999a4d80268834c5e8ad11a2ce5\"}'}"
            ]
          },
          "metadata": {},
          "execution_count": 1
        }
      ],
      "source": [
        "from google.colab import files\n",
        "files.upload()"
      ]
    },
    {
      "cell_type": "code",
      "source": [
        "!pip install -q kaggle"
      ],
      "metadata": {
        "id": "yAkOdaZ1LmzJ"
      },
      "execution_count": 2,
      "outputs": []
    },
    {
      "cell_type": "markdown",
      "source": [
        "Next we will install Kaggle API using pip installation."
      ],
      "metadata": {
        "id": "BZSPxcL3is-N"
      }
    },
    {
      "cell_type": "code",
      "source": [
        "!mkdir -p ~/.kaggle\n",
        "!cp kaggle.json ~/.kaggle/\n",
        "\n",
        "\n",
        "!chmod 600 ~/.kaggle/kaggle.json"
      ],
      "metadata": {
        "id": "ah1KJ-IML7V5"
      },
      "execution_count": 3,
      "outputs": []
    },
    {
      "cell_type": "code",
      "source": [
        "!mkdir dog_dataset\n",
        "%cd dog_dataset"
      ],
      "metadata": {
        "colab": {
          "base_uri": "https://localhost:8080/"
        },
        "id": "f99fSXHeMUv9",
        "outputId": "ba353c9b-e593-499f-c272-cc41229be6f8"
      },
      "execution_count": 4,
      "outputs": [
        {
          "output_type": "stream",
          "name": "stdout",
          "text": [
            "/content/dog_dataset\n"
          ]
        }
      ]
    },
    {
      "cell_type": "code",
      "source": [
        "!kaggle datasets list -s dogbreedidfromcomp"
      ],
      "metadata": {
        "colab": {
          "base_uri": "https://localhost:8080/"
        },
        "id": "ujKXU5SbMc6B",
        "outputId": "2d4d372b-40bb-47ed-cc68-947485e0ec75"
      },
      "execution_count": 5,
      "outputs": [
        {
          "output_type": "stream",
          "name": "stdout",
          "text": [
            "ref                                title                    size  lastUpdated          downloadCount  voteCount  usabilityRating  \n",
            "---------------------------------  ----------------------  -----  -------------------  -------------  ---------  ---------------  \n",
            "catherinehorng/dogbreedidfromcomp  dog-breed-id-from-comp  691MB  2020-06-26 03:09:05           5867          8  0.1764706        \n"
          ]
        }
      ]
    },
    {
      "cell_type": "markdown",
      "source": [
        "To store the data we will create a new directory and make it as current working directory."
      ],
      "metadata": {
        "id": "i7lGauG2iw3q"
      }
    },
    {
      "cell_type": "code",
      "source": [
        "!kaggle datasets download catherinehorng/dogbreedidfromcomp\n",
        "%cd"
      ],
      "metadata": {
        "colab": {
          "base_uri": "https://localhost:8080/"
        },
        "id": "p88uCBAzMs-R",
        "outputId": "179df96d-7249-41d0-d563-d253bcbff003"
      },
      "execution_count": 6,
      "outputs": [
        {
          "output_type": "stream",
          "name": "stdout",
          "text": [
            "Dataset URL: https://www.kaggle.com/datasets/catherinehorng/dogbreedidfromcomp\n",
            "License(s): unknown\n",
            "Downloading dogbreedidfromcomp.zip to /content/dog_dataset\n",
            " 98% 679M/691M [00:08<00:00, 82.0MB/s]\n",
            "100% 691M/691M [00:08<00:00, 87.1MB/s]\n",
            "/root\n"
          ]
        }
      ]
    },
    {
      "cell_type": "markdown",
      "source": [
        "We will unzip the data which is downloaded and remove the irrelevant files."
      ],
      "metadata": {
        "id": "PP0rxErbi2u-"
      }
    },
    {
      "cell_type": "code",
      "source": [
        "import os\n",
        "import zipfile\n",
        "\n",
        "# Ensure the directory exists\n",
        "os.makedirs('dog_dataset', exist_ok=True)\n",
        "\n",
        "# Download the dataset\n",
        "os.system('kaggle datasets download -d catherinehorng/dogbreedidfromcomp -p dog_dataset')\n",
        "\n",
        "# Define the zip file path\n",
        "zip_file_path = 'dog_dataset/dogbreedidfromcomp.zip'\n",
        "\n",
        "# Check if the file exists before attempting to unzip\n",
        "if os.path.exists(zip_file_path):\n",
        "    # Unzip the dataset\n",
        "    with zipfile.ZipFile(zip_file_path, 'r') as zip_ref:\n",
        "        zip_ref.extractall('dog_dataset')\n",
        "\n",
        "    # Remove the zip file\n",
        "    os.remove(zip_file_path)\n",
        "else:\n",
        "    print(f\"Zip file {zip_file_path} not found.\")\n"
      ],
      "metadata": {
        "id": "LyvhhWOZM-rD"
      },
      "execution_count": 10,
      "outputs": []
    },
    {
      "cell_type": "markdown",
      "source": [
        "Importing required libraries."
      ],
      "metadata": {
        "id": "YYAR9ANSi5nT"
      }
    },
    {
      "cell_type": "code",
      "source": [
        "import numpy as np\n",
        "import pandas as pd\n",
        "import matplotlib.pyplot as plt\n",
        "\n",
        "from tqdm import tqdm\n",
        "from keras.preprocessing import image\n",
        "from sklearn.preprocessing import label_binarize\n",
        "from sklearn.model_selection import train_test_split\n",
        "from keras.models import Sequential\n",
        "from keras.layers import Dense, Dropout, Flatten, Conv2D, MaxPool2D\n",
        "from keras.optimizers import Adam"
      ],
      "metadata": {
        "id": "lFSAiSHTNwBK"
      },
      "execution_count": 11,
      "outputs": []
    },
    {
      "cell_type": "markdown",
      "source": [
        "Loading the labels data into dataframe and viewing it. Here we analysed that labels contains 10222 rows and 2 columns"
      ],
      "metadata": {
        "id": "crOj8WSii8bK"
      }
    },
    {
      "cell_type": "code",
      "source": [
        "labels_all=pd.read_csv('dog_dataset/labels.csv')\n",
        "print(labels_all.shape)\n",
        "labels_all.head()"
      ],
      "metadata": {
        "colab": {
          "base_uri": "https://localhost:8080/",
          "height": 224
        },
        "id": "1Uoxo0OxPpLR",
        "outputId": "5cfe67b9-171f-4fb7-ee1f-16e7e7d3d462"
      },
      "execution_count": 14,
      "outputs": [
        {
          "output_type": "stream",
          "name": "stdout",
          "text": [
            "(10222, 2)\n"
          ]
        },
        {
          "output_type": "execute_result",
          "data": {
            "text/plain": [
              "                                 id             breed\n",
              "0  000bec180eb18c7604dcecc8fe0dba07       boston_bull\n",
              "1  001513dfcb2ffafc82cccf4d8bbaba97             dingo\n",
              "2  001cdf01b096e06d78e9e5112d419397          pekinese\n",
              "3  00214f311d5d2247d5dfe4fe24b2303d          bluetick\n",
              "4  0021f9ceb3235effd7fcde7f7538ed62  golden_retriever"
            ],
            "text/html": [
              "\n",
              "  <div id=\"df-653c4bfc-9864-4993-818e-5d0ee9e114d6\" class=\"colab-df-container\">\n",
              "    <div>\n",
              "<style scoped>\n",
              "    .dataframe tbody tr th:only-of-type {\n",
              "        vertical-align: middle;\n",
              "    }\n",
              "\n",
              "    .dataframe tbody tr th {\n",
              "        vertical-align: top;\n",
              "    }\n",
              "\n",
              "    .dataframe thead th {\n",
              "        text-align: right;\n",
              "    }\n",
              "</style>\n",
              "<table border=\"1\" class=\"dataframe\">\n",
              "  <thead>\n",
              "    <tr style=\"text-align: right;\">\n",
              "      <th></th>\n",
              "      <th>id</th>\n",
              "      <th>breed</th>\n",
              "    </tr>\n",
              "  </thead>\n",
              "  <tbody>\n",
              "    <tr>\n",
              "      <th>0</th>\n",
              "      <td>000bec180eb18c7604dcecc8fe0dba07</td>\n",
              "      <td>boston_bull</td>\n",
              "    </tr>\n",
              "    <tr>\n",
              "      <th>1</th>\n",
              "      <td>001513dfcb2ffafc82cccf4d8bbaba97</td>\n",
              "      <td>dingo</td>\n",
              "    </tr>\n",
              "    <tr>\n",
              "      <th>2</th>\n",
              "      <td>001cdf01b096e06d78e9e5112d419397</td>\n",
              "      <td>pekinese</td>\n",
              "    </tr>\n",
              "    <tr>\n",
              "      <th>3</th>\n",
              "      <td>00214f311d5d2247d5dfe4fe24b2303d</td>\n",
              "      <td>bluetick</td>\n",
              "    </tr>\n",
              "    <tr>\n",
              "      <th>4</th>\n",
              "      <td>0021f9ceb3235effd7fcde7f7538ed62</td>\n",
              "      <td>golden_retriever</td>\n",
              "    </tr>\n",
              "  </tbody>\n",
              "</table>\n",
              "</div>\n",
              "    <div class=\"colab-df-buttons\">\n",
              "\n",
              "  <div class=\"colab-df-container\">\n",
              "    <button class=\"colab-df-convert\" onclick=\"convertToInteractive('df-653c4bfc-9864-4993-818e-5d0ee9e114d6')\"\n",
              "            title=\"Convert this dataframe to an interactive table.\"\n",
              "            style=\"display:none;\">\n",
              "\n",
              "  <svg xmlns=\"http://www.w3.org/2000/svg\" height=\"24px\" viewBox=\"0 -960 960 960\">\n",
              "    <path d=\"M120-120v-720h720v720H120Zm60-500h600v-160H180v160Zm220 220h160v-160H400v160Zm0 220h160v-160H400v160ZM180-400h160v-160H180v160Zm440 0h160v-160H620v160ZM180-180h160v-160H180v160Zm440 0h160v-160H620v160Z\"/>\n",
              "  </svg>\n",
              "    </button>\n",
              "\n",
              "  <style>\n",
              "    .colab-df-container {\n",
              "      display:flex;\n",
              "      gap: 12px;\n",
              "    }\n",
              "\n",
              "    .colab-df-convert {\n",
              "      background-color: #E8F0FE;\n",
              "      border: none;\n",
              "      border-radius: 50%;\n",
              "      cursor: pointer;\n",
              "      display: none;\n",
              "      fill: #1967D2;\n",
              "      height: 32px;\n",
              "      padding: 0 0 0 0;\n",
              "      width: 32px;\n",
              "    }\n",
              "\n",
              "    .colab-df-convert:hover {\n",
              "      background-color: #E2EBFA;\n",
              "      box-shadow: 0px 1px 2px rgba(60, 64, 67, 0.3), 0px 1px 3px 1px rgba(60, 64, 67, 0.15);\n",
              "      fill: #174EA6;\n",
              "    }\n",
              "\n",
              "    .colab-df-buttons div {\n",
              "      margin-bottom: 4px;\n",
              "    }\n",
              "\n",
              "    [theme=dark] .colab-df-convert {\n",
              "      background-color: #3B4455;\n",
              "      fill: #D2E3FC;\n",
              "    }\n",
              "\n",
              "    [theme=dark] .colab-df-convert:hover {\n",
              "      background-color: #434B5C;\n",
              "      box-shadow: 0px 1px 3px 1px rgba(0, 0, 0, 0.15);\n",
              "      filter: drop-shadow(0px 1px 2px rgba(0, 0, 0, 0.3));\n",
              "      fill: #FFFFFF;\n",
              "    }\n",
              "  </style>\n",
              "\n",
              "    <script>\n",
              "      const buttonEl =\n",
              "        document.querySelector('#df-653c4bfc-9864-4993-818e-5d0ee9e114d6 button.colab-df-convert');\n",
              "      buttonEl.style.display =\n",
              "        google.colab.kernel.accessAllowed ? 'block' : 'none';\n",
              "\n",
              "      async function convertToInteractive(key) {\n",
              "        const element = document.querySelector('#df-653c4bfc-9864-4993-818e-5d0ee9e114d6');\n",
              "        const dataTable =\n",
              "          await google.colab.kernel.invokeFunction('convertToInteractive',\n",
              "                                                    [key], {});\n",
              "        if (!dataTable) return;\n",
              "\n",
              "        const docLinkHtml = 'Like what you see? Visit the ' +\n",
              "          '<a target=\"_blank\" href=https://colab.research.google.com/notebooks/data_table.ipynb>data table notebook</a>'\n",
              "          + ' to learn more about interactive tables.';\n",
              "        element.innerHTML = '';\n",
              "        dataTable['output_type'] = 'display_data';\n",
              "        await google.colab.output.renderOutput(dataTable, element);\n",
              "        const docLink = document.createElement('div');\n",
              "        docLink.innerHTML = docLinkHtml;\n",
              "        element.appendChild(docLink);\n",
              "      }\n",
              "    </script>\n",
              "  </div>\n",
              "\n",
              "\n",
              "<div id=\"df-42844aee-3110-4d61-8fcc-35a9e4dcd624\">\n",
              "  <button class=\"colab-df-quickchart\" onclick=\"quickchart('df-42844aee-3110-4d61-8fcc-35a9e4dcd624')\"\n",
              "            title=\"Suggest charts\"\n",
              "            style=\"display:none;\">\n",
              "\n",
              "<svg xmlns=\"http://www.w3.org/2000/svg\" height=\"24px\"viewBox=\"0 0 24 24\"\n",
              "     width=\"24px\">\n",
              "    <g>\n",
              "        <path d=\"M19 3H5c-1.1 0-2 .9-2 2v14c0 1.1.9 2 2 2h14c1.1 0 2-.9 2-2V5c0-1.1-.9-2-2-2zM9 17H7v-7h2v7zm4 0h-2V7h2v10zm4 0h-2v-4h2v4z\"/>\n",
              "    </g>\n",
              "</svg>\n",
              "  </button>\n",
              "\n",
              "<style>\n",
              "  .colab-df-quickchart {\n",
              "      --bg-color: #E8F0FE;\n",
              "      --fill-color: #1967D2;\n",
              "      --hover-bg-color: #E2EBFA;\n",
              "      --hover-fill-color: #174EA6;\n",
              "      --disabled-fill-color: #AAA;\n",
              "      --disabled-bg-color: #DDD;\n",
              "  }\n",
              "\n",
              "  [theme=dark] .colab-df-quickchart {\n",
              "      --bg-color: #3B4455;\n",
              "      --fill-color: #D2E3FC;\n",
              "      --hover-bg-color: #434B5C;\n",
              "      --hover-fill-color: #FFFFFF;\n",
              "      --disabled-bg-color: #3B4455;\n",
              "      --disabled-fill-color: #666;\n",
              "  }\n",
              "\n",
              "  .colab-df-quickchart {\n",
              "    background-color: var(--bg-color);\n",
              "    border: none;\n",
              "    border-radius: 50%;\n",
              "    cursor: pointer;\n",
              "    display: none;\n",
              "    fill: var(--fill-color);\n",
              "    height: 32px;\n",
              "    padding: 0;\n",
              "    width: 32px;\n",
              "  }\n",
              "\n",
              "  .colab-df-quickchart:hover {\n",
              "    background-color: var(--hover-bg-color);\n",
              "    box-shadow: 0 1px 2px rgba(60, 64, 67, 0.3), 0 1px 3px 1px rgba(60, 64, 67, 0.15);\n",
              "    fill: var(--button-hover-fill-color);\n",
              "  }\n",
              "\n",
              "  .colab-df-quickchart-complete:disabled,\n",
              "  .colab-df-quickchart-complete:disabled:hover {\n",
              "    background-color: var(--disabled-bg-color);\n",
              "    fill: var(--disabled-fill-color);\n",
              "    box-shadow: none;\n",
              "  }\n",
              "\n",
              "  .colab-df-spinner {\n",
              "    border: 2px solid var(--fill-color);\n",
              "    border-color: transparent;\n",
              "    border-bottom-color: var(--fill-color);\n",
              "    animation:\n",
              "      spin 1s steps(1) infinite;\n",
              "  }\n",
              "\n",
              "  @keyframes spin {\n",
              "    0% {\n",
              "      border-color: transparent;\n",
              "      border-bottom-color: var(--fill-color);\n",
              "      border-left-color: var(--fill-color);\n",
              "    }\n",
              "    20% {\n",
              "      border-color: transparent;\n",
              "      border-left-color: var(--fill-color);\n",
              "      border-top-color: var(--fill-color);\n",
              "    }\n",
              "    30% {\n",
              "      border-color: transparent;\n",
              "      border-left-color: var(--fill-color);\n",
              "      border-top-color: var(--fill-color);\n",
              "      border-right-color: var(--fill-color);\n",
              "    }\n",
              "    40% {\n",
              "      border-color: transparent;\n",
              "      border-right-color: var(--fill-color);\n",
              "      border-top-color: var(--fill-color);\n",
              "    }\n",
              "    60% {\n",
              "      border-color: transparent;\n",
              "      border-right-color: var(--fill-color);\n",
              "    }\n",
              "    80% {\n",
              "      border-color: transparent;\n",
              "      border-right-color: var(--fill-color);\n",
              "      border-bottom-color: var(--fill-color);\n",
              "    }\n",
              "    90% {\n",
              "      border-color: transparent;\n",
              "      border-bottom-color: var(--fill-color);\n",
              "    }\n",
              "  }\n",
              "</style>\n",
              "\n",
              "  <script>\n",
              "    async function quickchart(key) {\n",
              "      const quickchartButtonEl =\n",
              "        document.querySelector('#' + key + ' button');\n",
              "      quickchartButtonEl.disabled = true;  // To prevent multiple clicks.\n",
              "      quickchartButtonEl.classList.add('colab-df-spinner');\n",
              "      try {\n",
              "        const charts = await google.colab.kernel.invokeFunction(\n",
              "            'suggestCharts', [key], {});\n",
              "      } catch (error) {\n",
              "        console.error('Error during call to suggestCharts:', error);\n",
              "      }\n",
              "      quickchartButtonEl.classList.remove('colab-df-spinner');\n",
              "      quickchartButtonEl.classList.add('colab-df-quickchart-complete');\n",
              "    }\n",
              "    (() => {\n",
              "      let quickchartButtonEl =\n",
              "        document.querySelector('#df-42844aee-3110-4d61-8fcc-35a9e4dcd624 button');\n",
              "      quickchartButtonEl.style.display =\n",
              "        google.colab.kernel.accessAllowed ? 'block' : 'none';\n",
              "    })();\n",
              "  </script>\n",
              "</div>\n",
              "\n",
              "    </div>\n",
              "  </div>\n"
            ],
            "application/vnd.google.colaboratory.intrinsic+json": {
              "type": "dataframe",
              "variable_name": "labels_all",
              "summary": "{\n  \"name\": \"labels_all\",\n  \"rows\": 10222,\n  \"fields\": [\n    {\n      \"column\": \"id\",\n      \"properties\": {\n        \"dtype\": \"string\",\n        \"num_unique_values\": 10222,\n        \"samples\": [\n          \"475171ec5847e4df41847e295b8cfca2\",\n          \"70c412a3ce894c617cbe707f24adbb82\",\n          \"c13427fc3db9194dac02b1721bd10fe4\"\n        ],\n        \"semantic_type\": \"\",\n        \"description\": \"\"\n      }\n    },\n    {\n      \"column\": \"breed\",\n      \"properties\": {\n        \"dtype\": \"category\",\n        \"num_unique_values\": 120,\n        \"samples\": [\n          \"rhodesian_ridgeback\",\n          \"bloodhound\",\n          \"golden_retriever\"\n        ],\n        \"semantic_type\": \"\",\n        \"description\": \"\"\n      }\n    }\n  ]\n}"
            }
          },
          "metadata": {},
          "execution_count": 14
        }
      ]
    },
    {
      "cell_type": "markdown",
      "source": [
        "Here we are finding out the count per class i.e. total data in each class using value_counts() function"
      ],
      "metadata": {
        "id": "Eptokw9Di_w_"
      }
    },
    {
      "cell_type": "code",
      "source": [
        "breed_all = labels_all['breed']\n",
        "breed_counts=breed_all.value_counts()\n",
        "breed_counts.head()"
      ],
      "metadata": {
        "colab": {
          "base_uri": "https://localhost:8080/"
        },
        "id": "KPwjwm5HQAah",
        "outputId": "4fdfb0c7-df98-4e0c-f928-b7e4e1140ac9"
      },
      "execution_count": 15,
      "outputs": [
        {
          "output_type": "execute_result",
          "data": {
            "text/plain": [
              "breed\n",
              "scottish_deerhound      126\n",
              "maltese_dog             117\n",
              "afghan_hound            116\n",
              "entlebucher             115\n",
              "bernese_mountain_dog    114\n",
              "Name: count, dtype: int64"
            ]
          },
          "metadata": {},
          "execution_count": 15
        }
      ]
    },
    {
      "cell_type": "markdown",
      "source": [
        "We will work on only 3 breeds due to limited computational power. You can consider more classes as per your system computational power."
      ],
      "metadata": {
        "id": "4zERf32YjCiR"
      }
    },
    {
      "cell_type": "code",
      "source": [
        "class_names = ['scottish_deerhound','maltese_dog','bernese_mountain_dog']\n",
        "labels = labels_all[(labels_all['breed'].isin(class_names))]\n",
        "labels = labels.reset_index()\n",
        "labels.head()"
      ],
      "metadata": {
        "colab": {
          "base_uri": "https://localhost:8080/",
          "height": 206
        },
        "id": "6qiLZG79QbQy",
        "outputId": "a7448a71-2ad7-4518-c675-6f7a39f216e1"
      },
      "execution_count": 16,
      "outputs": [
        {
          "output_type": "execute_result",
          "data": {
            "text/plain": [
              "   index                                id                 breed\n",
              "0      9  0042188c895a2f14ef64a918ed9c7b64    scottish_deerhound\n",
              "1     12  00693b8bc2470375cc744a6391d397ec           maltese_dog\n",
              "2     79  01e787576c003930f96c966f9c3e1d44    scottish_deerhound\n",
              "3     90  022b34fd8734b39995a9f38a4f3e7b6b           maltese_dog\n",
              "4    118  02d54f0dfb40038765e838459ae8c956  bernese_mountain_dog"
            ],
            "text/html": [
              "\n",
              "  <div id=\"df-0d0581e3-35b7-4f4d-a968-3e40f4115f0e\" class=\"colab-df-container\">\n",
              "    <div>\n",
              "<style scoped>\n",
              "    .dataframe tbody tr th:only-of-type {\n",
              "        vertical-align: middle;\n",
              "    }\n",
              "\n",
              "    .dataframe tbody tr th {\n",
              "        vertical-align: top;\n",
              "    }\n",
              "\n",
              "    .dataframe thead th {\n",
              "        text-align: right;\n",
              "    }\n",
              "</style>\n",
              "<table border=\"1\" class=\"dataframe\">\n",
              "  <thead>\n",
              "    <tr style=\"text-align: right;\">\n",
              "      <th></th>\n",
              "      <th>index</th>\n",
              "      <th>id</th>\n",
              "      <th>breed</th>\n",
              "    </tr>\n",
              "  </thead>\n",
              "  <tbody>\n",
              "    <tr>\n",
              "      <th>0</th>\n",
              "      <td>9</td>\n",
              "      <td>0042188c895a2f14ef64a918ed9c7b64</td>\n",
              "      <td>scottish_deerhound</td>\n",
              "    </tr>\n",
              "    <tr>\n",
              "      <th>1</th>\n",
              "      <td>12</td>\n",
              "      <td>00693b8bc2470375cc744a6391d397ec</td>\n",
              "      <td>maltese_dog</td>\n",
              "    </tr>\n",
              "    <tr>\n",
              "      <th>2</th>\n",
              "      <td>79</td>\n",
              "      <td>01e787576c003930f96c966f9c3e1d44</td>\n",
              "      <td>scottish_deerhound</td>\n",
              "    </tr>\n",
              "    <tr>\n",
              "      <th>3</th>\n",
              "      <td>90</td>\n",
              "      <td>022b34fd8734b39995a9f38a4f3e7b6b</td>\n",
              "      <td>maltese_dog</td>\n",
              "    </tr>\n",
              "    <tr>\n",
              "      <th>4</th>\n",
              "      <td>118</td>\n",
              "      <td>02d54f0dfb40038765e838459ae8c956</td>\n",
              "      <td>bernese_mountain_dog</td>\n",
              "    </tr>\n",
              "  </tbody>\n",
              "</table>\n",
              "</div>\n",
              "    <div class=\"colab-df-buttons\">\n",
              "\n",
              "  <div class=\"colab-df-container\">\n",
              "    <button class=\"colab-df-convert\" onclick=\"convertToInteractive('df-0d0581e3-35b7-4f4d-a968-3e40f4115f0e')\"\n",
              "            title=\"Convert this dataframe to an interactive table.\"\n",
              "            style=\"display:none;\">\n",
              "\n",
              "  <svg xmlns=\"http://www.w3.org/2000/svg\" height=\"24px\" viewBox=\"0 -960 960 960\">\n",
              "    <path d=\"M120-120v-720h720v720H120Zm60-500h600v-160H180v160Zm220 220h160v-160H400v160Zm0 220h160v-160H400v160ZM180-400h160v-160H180v160Zm440 0h160v-160H620v160ZM180-180h160v-160H180v160Zm440 0h160v-160H620v160Z\"/>\n",
              "  </svg>\n",
              "    </button>\n",
              "\n",
              "  <style>\n",
              "    .colab-df-container {\n",
              "      display:flex;\n",
              "      gap: 12px;\n",
              "    }\n",
              "\n",
              "    .colab-df-convert {\n",
              "      background-color: #E8F0FE;\n",
              "      border: none;\n",
              "      border-radius: 50%;\n",
              "      cursor: pointer;\n",
              "      display: none;\n",
              "      fill: #1967D2;\n",
              "      height: 32px;\n",
              "      padding: 0 0 0 0;\n",
              "      width: 32px;\n",
              "    }\n",
              "\n",
              "    .colab-df-convert:hover {\n",
              "      background-color: #E2EBFA;\n",
              "      box-shadow: 0px 1px 2px rgba(60, 64, 67, 0.3), 0px 1px 3px 1px rgba(60, 64, 67, 0.15);\n",
              "      fill: #174EA6;\n",
              "    }\n",
              "\n",
              "    .colab-df-buttons div {\n",
              "      margin-bottom: 4px;\n",
              "    }\n",
              "\n",
              "    [theme=dark] .colab-df-convert {\n",
              "      background-color: #3B4455;\n",
              "      fill: #D2E3FC;\n",
              "    }\n",
              "\n",
              "    [theme=dark] .colab-df-convert:hover {\n",
              "      background-color: #434B5C;\n",
              "      box-shadow: 0px 1px 3px 1px rgba(0, 0, 0, 0.15);\n",
              "      filter: drop-shadow(0px 1px 2px rgba(0, 0, 0, 0.3));\n",
              "      fill: #FFFFFF;\n",
              "    }\n",
              "  </style>\n",
              "\n",
              "    <script>\n",
              "      const buttonEl =\n",
              "        document.querySelector('#df-0d0581e3-35b7-4f4d-a968-3e40f4115f0e button.colab-df-convert');\n",
              "      buttonEl.style.display =\n",
              "        google.colab.kernel.accessAllowed ? 'block' : 'none';\n",
              "\n",
              "      async function convertToInteractive(key) {\n",
              "        const element = document.querySelector('#df-0d0581e3-35b7-4f4d-a968-3e40f4115f0e');\n",
              "        const dataTable =\n",
              "          await google.colab.kernel.invokeFunction('convertToInteractive',\n",
              "                                                    [key], {});\n",
              "        if (!dataTable) return;\n",
              "\n",
              "        const docLinkHtml = 'Like what you see? Visit the ' +\n",
              "          '<a target=\"_blank\" href=https://colab.research.google.com/notebooks/data_table.ipynb>data table notebook</a>'\n",
              "          + ' to learn more about interactive tables.';\n",
              "        element.innerHTML = '';\n",
              "        dataTable['output_type'] = 'display_data';\n",
              "        await google.colab.output.renderOutput(dataTable, element);\n",
              "        const docLink = document.createElement('div');\n",
              "        docLink.innerHTML = docLinkHtml;\n",
              "        element.appendChild(docLink);\n",
              "      }\n",
              "    </script>\n",
              "  </div>\n",
              "\n",
              "\n",
              "<div id=\"df-06a23f38-14b1-40e3-bc8e-18d4156ffebc\">\n",
              "  <button class=\"colab-df-quickchart\" onclick=\"quickchart('df-06a23f38-14b1-40e3-bc8e-18d4156ffebc')\"\n",
              "            title=\"Suggest charts\"\n",
              "            style=\"display:none;\">\n",
              "\n",
              "<svg xmlns=\"http://www.w3.org/2000/svg\" height=\"24px\"viewBox=\"0 0 24 24\"\n",
              "     width=\"24px\">\n",
              "    <g>\n",
              "        <path d=\"M19 3H5c-1.1 0-2 .9-2 2v14c0 1.1.9 2 2 2h14c1.1 0 2-.9 2-2V5c0-1.1-.9-2-2-2zM9 17H7v-7h2v7zm4 0h-2V7h2v10zm4 0h-2v-4h2v4z\"/>\n",
              "    </g>\n",
              "</svg>\n",
              "  </button>\n",
              "\n",
              "<style>\n",
              "  .colab-df-quickchart {\n",
              "      --bg-color: #E8F0FE;\n",
              "      --fill-color: #1967D2;\n",
              "      --hover-bg-color: #E2EBFA;\n",
              "      --hover-fill-color: #174EA6;\n",
              "      --disabled-fill-color: #AAA;\n",
              "      --disabled-bg-color: #DDD;\n",
              "  }\n",
              "\n",
              "  [theme=dark] .colab-df-quickchart {\n",
              "      --bg-color: #3B4455;\n",
              "      --fill-color: #D2E3FC;\n",
              "      --hover-bg-color: #434B5C;\n",
              "      --hover-fill-color: #FFFFFF;\n",
              "      --disabled-bg-color: #3B4455;\n",
              "      --disabled-fill-color: #666;\n",
              "  }\n",
              "\n",
              "  .colab-df-quickchart {\n",
              "    background-color: var(--bg-color);\n",
              "    border: none;\n",
              "    border-radius: 50%;\n",
              "    cursor: pointer;\n",
              "    display: none;\n",
              "    fill: var(--fill-color);\n",
              "    height: 32px;\n",
              "    padding: 0;\n",
              "    width: 32px;\n",
              "  }\n",
              "\n",
              "  .colab-df-quickchart:hover {\n",
              "    background-color: var(--hover-bg-color);\n",
              "    box-shadow: 0 1px 2px rgba(60, 64, 67, 0.3), 0 1px 3px 1px rgba(60, 64, 67, 0.15);\n",
              "    fill: var(--button-hover-fill-color);\n",
              "  }\n",
              "\n",
              "  .colab-df-quickchart-complete:disabled,\n",
              "  .colab-df-quickchart-complete:disabled:hover {\n",
              "    background-color: var(--disabled-bg-color);\n",
              "    fill: var(--disabled-fill-color);\n",
              "    box-shadow: none;\n",
              "  }\n",
              "\n",
              "  .colab-df-spinner {\n",
              "    border: 2px solid var(--fill-color);\n",
              "    border-color: transparent;\n",
              "    border-bottom-color: var(--fill-color);\n",
              "    animation:\n",
              "      spin 1s steps(1) infinite;\n",
              "  }\n",
              "\n",
              "  @keyframes spin {\n",
              "    0% {\n",
              "      border-color: transparent;\n",
              "      border-bottom-color: var(--fill-color);\n",
              "      border-left-color: var(--fill-color);\n",
              "    }\n",
              "    20% {\n",
              "      border-color: transparent;\n",
              "      border-left-color: var(--fill-color);\n",
              "      border-top-color: var(--fill-color);\n",
              "    }\n",
              "    30% {\n",
              "      border-color: transparent;\n",
              "      border-left-color: var(--fill-color);\n",
              "      border-top-color: var(--fill-color);\n",
              "      border-right-color: var(--fill-color);\n",
              "    }\n",
              "    40% {\n",
              "      border-color: transparent;\n",
              "      border-right-color: var(--fill-color);\n",
              "      border-top-color: var(--fill-color);\n",
              "    }\n",
              "    60% {\n",
              "      border-color: transparent;\n",
              "      border-right-color: var(--fill-color);\n",
              "    }\n",
              "    80% {\n",
              "      border-color: transparent;\n",
              "      border-right-color: var(--fill-color);\n",
              "      border-bottom-color: var(--fill-color);\n",
              "    }\n",
              "    90% {\n",
              "      border-color: transparent;\n",
              "      border-bottom-color: var(--fill-color);\n",
              "    }\n",
              "  }\n",
              "</style>\n",
              "\n",
              "  <script>\n",
              "    async function quickchart(key) {\n",
              "      const quickchartButtonEl =\n",
              "        document.querySelector('#' + key + ' button');\n",
              "      quickchartButtonEl.disabled = true;  // To prevent multiple clicks.\n",
              "      quickchartButtonEl.classList.add('colab-df-spinner');\n",
              "      try {\n",
              "        const charts = await google.colab.kernel.invokeFunction(\n",
              "            'suggestCharts', [key], {});\n",
              "      } catch (error) {\n",
              "        console.error('Error during call to suggestCharts:', error);\n",
              "      }\n",
              "      quickchartButtonEl.classList.remove('colab-df-spinner');\n",
              "      quickchartButtonEl.classList.add('colab-df-quickchart-complete');\n",
              "    }\n",
              "    (() => {\n",
              "      let quickchartButtonEl =\n",
              "        document.querySelector('#df-06a23f38-14b1-40e3-bc8e-18d4156ffebc button');\n",
              "      quickchartButtonEl.style.display =\n",
              "        google.colab.kernel.accessAllowed ? 'block' : 'none';\n",
              "    })();\n",
              "  </script>\n",
              "</div>\n",
              "\n",
              "    </div>\n",
              "  </div>\n"
            ],
            "application/vnd.google.colaboratory.intrinsic+json": {
              "type": "dataframe",
              "variable_name": "labels",
              "summary": "{\n  \"name\": \"labels\",\n  \"rows\": 357,\n  \"fields\": [\n    {\n      \"column\": \"index\",\n      \"properties\": {\n        \"dtype\": \"number\",\n        \"std\": 2997,\n        \"min\": 9,\n        \"max\": 10204,\n        \"num_unique_values\": 357,\n        \"samples\": [\n          6413,\n          1068,\n          8463\n        ],\n        \"semantic_type\": \"\",\n        \"description\": \"\"\n      }\n    },\n    {\n      \"column\": \"id\",\n      \"properties\": {\n        \"dtype\": \"string\",\n        \"num_unique_values\": 357,\n        \"samples\": [\n          \"a1c0d9dbf4f0bee7763cc869881bde58\",\n          \"1a8aaa3e469d8a07ad9f3d7667f7ca52\",\n          \"d47fcfb7f8b4de12cb78b54eb1c62dcb\"\n        ],\n        \"semantic_type\": \"\",\n        \"description\": \"\"\n      }\n    },\n    {\n      \"column\": \"breed\",\n      \"properties\": {\n        \"dtype\": \"category\",\n        \"num_unique_values\": 3,\n        \"samples\": [\n          \"scottish_deerhound\",\n          \"maltese_dog\",\n          \"bernese_mountain_dog\"\n        ],\n        \"semantic_type\": \"\",\n        \"description\": \"\"\n      }\n    }\n  ]\n}"
            }
          },
          "metadata": {},
          "execution_count": 16
        }
      ]
    },
    {
      "cell_type": "markdown",
      "source": [
        "As we are working with the classification dataset first we need to one hot encode the target value i.e. the classes. After that we will read images and convert them into numpy array and finally normalizing the array."
      ],
      "metadata": {
        "id": "X_Vna2ukjK69"
      }
    },
    {
      "cell_type": "code",
      "source": [
        "X_data= np.zeros((len(labels),224,224,3), dtype='float32')\n",
        "#One Hot Encoding\n",
        "Y_data= label_binarize(labels['breed'], classes = class_names)\n",
        "\n",
        "\n",
        "for i in tqdm(range(len(labels))):\n",
        "  img = image.load_img('dog_dataset/train/%s.jpg' % labels['id'][i], target_size=(224,224))\n",
        "  img = image.img_to_array(img)\n",
        "  x = np.expand_dims(img.copy(),axis=0)\n",
        "  X_data[i] = x / 255.0\n",
        "\n",
        "\n",
        "\n",
        "print('\\nTrain Images Shape:',X_data.shape,'size: {:,}'.format(X_data.size))\n",
        "print('one hot encoded output Shape:',Y_data.shape,'size: {:,}'.format(Y_data.size))\n",
        "\n"
      ],
      "metadata": {
        "colab": {
          "base_uri": "https://localhost:8080/"
        },
        "id": "5r6RvxqmRFOc",
        "outputId": "1e18d47b-2258-4e86-88cc-92e63dee689f"
      },
      "execution_count": 19,
      "outputs": [
        {
          "output_type": "stream",
          "name": "stderr",
          "text": [
            "100%|██████████| 357/357 [00:03<00:00, 97.24it/s]"
          ]
        },
        {
          "output_type": "stream",
          "name": "stdout",
          "text": [
            "\n",
            "Train Images Shape: (357, 224, 224, 3) size: 53,738,496\n",
            "one hot encoded output Shape: (357, 3) size: 1,071\n"
          ]
        },
        {
          "output_type": "stream",
          "name": "stderr",
          "text": [
            "\n"
          ]
        }
      ]
    },
    {
      "cell_type": "code",
      "source": [
        "import tensorflow as tf"
      ],
      "metadata": {
        "id": "8OiDMZfQYHoA"
      },
      "execution_count": 31,
      "outputs": []
    },
    {
      "cell_type": "markdown",
      "source": [
        "Next we will create a network architecture for the model. We have used different types of layers according to their features namely Conv_2d (It is used to create a convolutional kernel that is convolved with the input layer to produce the output tensor), max_pooling2d (It is a downsampling technique which takes out the maximum value over the window defined by poolsize), flatten (It flattens the input and creates a 1D output), Dense (Dense layer produce the output as the dot product of input and kernel)."
      ],
      "metadata": {
        "id": "upV_eK6VjPE_"
      }
    },
    {
      "cell_type": "code",
      "source": [
        "model = Sequential()\n",
        "\n",
        "model.add(Conv2D(filters=64, kernel_size = (5,5), activation='relu', input_shape=(224,224,3)))\n",
        "model.add(MaxPool2D(pool_size=(2,2)))\n",
        "\n",
        "model.add(Conv2D(filters=32, kernel_size = (3,3), activation='relu', kernel_regularizer=tf.keras.regularizers.l2(0.01)))\n",
        "model.add(MaxPool2D(pool_size=(2,2)))\n",
        "\n",
        "model.add(Conv2D(filters=16, kernel_size = (7,7), activation='relu', kernel_regularizer=tf.keras.regularizers.l2(0.01)))\n",
        "model.add(MaxPool2D(pool_size=(2,2)))\n",
        "\n",
        "model.add(Conv2D(filters=8, kernel_size = (5,5), activation='relu', kernel_regularizer=tf.keras.regularizers.l2(0.01)))\n",
        "model.add(MaxPool2D(pool_size=(2,2)))\n",
        "\n",
        "\n",
        "model.add(Flatten())\n",
        "model.add(Dense(128, activation='relu', kernel_regularizer=tf.keras.regularizers.l2(0.01)))\n",
        "model.add(Dense(64, activation='relu', kernel_regularizer=tf.keras.regularizers.l2(0.01)))\n",
        "model.add(Dense(len(class_names), activation = 'softmax'))\n",
        "\n",
        "model.compile(loss = 'categorical_crossentropy',optimizer = Adam(0.0001),metrics=['accuracy'])\n",
        "\n",
        "model.summary()\n",
        "\n",
        "\n",
        "\n",
        "\n",
        "\n"
      ],
      "metadata": {
        "colab": {
          "base_uri": "https://localhost:8080/"
        },
        "id": "C8LXFDfZSyqE",
        "outputId": "ee436dd5-c229-47d1-a6e7-4143434e8405"
      },
      "execution_count": 32,
      "outputs": [
        {
          "output_type": "stream",
          "name": "stdout",
          "text": [
            "Model: \"sequential_4\"\n",
            "_________________________________________________________________\n",
            " Layer (type)                Output Shape              Param #   \n",
            "=================================================================\n",
            " conv2d_9 (Conv2D)           (None, 220, 220, 64)      4864      \n",
            "                                                                 \n",
            " max_pooling2d_9 (MaxPoolin  (None, 110, 110, 64)      0         \n",
            " g2D)                                                            \n",
            "                                                                 \n",
            " conv2d_10 (Conv2D)          (None, 108, 108, 32)      18464     \n",
            "                                                                 \n",
            " max_pooling2d_10 (MaxPooli  (None, 54, 54, 32)        0         \n",
            " ng2D)                                                           \n",
            "                                                                 \n",
            " conv2d_11 (Conv2D)          (None, 48, 48, 16)        25104     \n",
            "                                                                 \n",
            " max_pooling2d_11 (MaxPooli  (None, 24, 24, 16)        0         \n",
            " ng2D)                                                           \n",
            "                                                                 \n",
            " conv2d_12 (Conv2D)          (None, 20, 20, 8)         3208      \n",
            "                                                                 \n",
            " max_pooling2d_12 (MaxPooli  (None, 10, 10, 8)         0         \n",
            " ng2D)                                                           \n",
            "                                                                 \n",
            " flatten_2 (Flatten)         (None, 800)               0         \n",
            "                                                                 \n",
            " dense_6 (Dense)             (None, 128)               102528    \n",
            "                                                                 \n",
            " dense_7 (Dense)             (None, 64)                8256      \n",
            "                                                                 \n",
            " dense_8 (Dense)             (None, 3)                 195       \n",
            "                                                                 \n",
            "=================================================================\n",
            "Total params: 162619 (635.23 KB)\n",
            "Trainable params: 162619 (635.23 KB)\n",
            "Non-trainable params: 0 (0.00 Byte)\n",
            "_________________________________________________________________\n"
          ]
        }
      ]
    },
    {
      "cell_type": "markdown",
      "source": [
        "After defining the network architecture we found out the total parameters as 162,619."
      ],
      "metadata": {
        "id": "0lyW4aVbjTac"
      }
    },
    {
      "cell_type": "markdown",
      "source": [
        "After defining the network architecture we will start with splitting the test and train data then dividing train data in train and validation data."
      ],
      "metadata": {
        "id": "I-VLt9sjjUN-"
      }
    },
    {
      "cell_type": "code",
      "source": [
        "X_train_and_val,X_test,y_train_and_val,y_test = train_test_split(X_data, Y_data, test_size=0.1)\n",
        "\n",
        "X_train,X_val,y_train,y_val = train_test_split(X_train_and_val, y_train_and_val, test_size=0.2)"
      ],
      "metadata": {
        "id": "wQHGurEHU-dp"
      },
      "execution_count": 33,
      "outputs": []
    },
    {
      "cell_type": "markdown",
      "source": [
        "Now we will train our model on 100 epochs and a batch size of 128. You can try using more number of epochs to increase accuracy. During each epochs we can see how the model is performing by viewing the training and validation accuracy."
      ],
      "metadata": {
        "id": "wCo5-feFjZHV"
      }
    },
    {
      "cell_type": "code",
      "source": [
        "epochs = 50\n",
        "batch_size = 128\n",
        "\n",
        "\n",
        "history = model.fit(X_train,y_train,batch_size = batch_size,epochs=epochs, validation_data=(X_val,y_val))"
      ],
      "metadata": {
        "colab": {
          "base_uri": "https://localhost:8080/"
        },
        "id": "6Kbtfc0XWK43",
        "outputId": "bc01aa76-86f2-4ca2-a361-471c812c14f3"
      },
      "execution_count": 34,
      "outputs": [
        {
          "output_type": "stream",
          "name": "stdout",
          "text": [
            "Epoch 1/50\n",
            "2/2 [==============================] - 52s 24s/step - loss: 4.8889 - accuracy: 0.3125 - val_loss: 4.8680 - val_accuracy: 0.3846\n",
            "Epoch 2/50\n",
            "2/2 [==============================] - 37s 20s/step - loss: 4.8578 - accuracy: 0.4141 - val_loss: 4.8400 - val_accuracy: 0.4000\n",
            "Epoch 3/50\n",
            "2/2 [==============================] - 39s 20s/step - loss: 4.8297 - accuracy: 0.4414 - val_loss: 4.8132 - val_accuracy: 0.4000\n",
            "Epoch 4/50\n",
            "2/2 [==============================] - 41s 23s/step - loss: 4.8021 - accuracy: 0.4062 - val_loss: 4.7881 - val_accuracy: 0.4000\n",
            "Epoch 5/50\n",
            "2/2 [==============================] - 37s 20s/step - loss: 4.7760 - accuracy: 0.4062 - val_loss: 4.7643 - val_accuracy: 0.4000\n",
            "Epoch 6/50\n",
            "2/2 [==============================] - 39s 19s/step - loss: 4.7497 - accuracy: 0.4102 - val_loss: 4.7408 - val_accuracy: 0.3846\n",
            "Epoch 7/50\n",
            "2/2 [==============================] - 39s 22s/step - loss: 4.7232 - accuracy: 0.4141 - val_loss: 4.7171 - val_accuracy: 0.4000\n",
            "Epoch 8/50\n",
            "2/2 [==============================] - 40s 22s/step - loss: 4.6960 - accuracy: 0.4297 - val_loss: 4.6894 - val_accuracy: 0.4154\n",
            "Epoch 9/50\n",
            "2/2 [==============================] - 37s 20s/step - loss: 4.6682 - accuracy: 0.4492 - val_loss: 4.6616 - val_accuracy: 0.4769\n",
            "Epoch 10/50\n",
            "2/2 [==============================] - 39s 20s/step - loss: 4.6406 - accuracy: 0.4883 - val_loss: 4.6339 - val_accuracy: 0.4769\n",
            "Epoch 11/50\n",
            "2/2 [==============================] - 40s 23s/step - loss: 4.6112 - accuracy: 0.4805 - val_loss: 4.6061 - val_accuracy: 0.4923\n",
            "Epoch 12/50\n",
            "2/2 [==============================] - 37s 20s/step - loss: 4.5800 - accuracy: 0.4883 - val_loss: 4.5769 - val_accuracy: 0.4769\n",
            "Epoch 13/50\n",
            "2/2 [==============================] - 39s 19s/step - loss: 4.5482 - accuracy: 0.5039 - val_loss: 4.5485 - val_accuracy: 0.4923\n",
            "Epoch 14/50\n",
            "2/2 [==============================] - 39s 22s/step - loss: 4.5138 - accuracy: 0.5547 - val_loss: 4.5181 - val_accuracy: 0.5538\n",
            "Epoch 15/50\n",
            "2/2 [==============================] - 37s 20s/step - loss: 4.4763 - accuracy: 0.5664 - val_loss: 4.4834 - val_accuracy: 0.5538\n",
            "Epoch 16/50\n",
            "2/2 [==============================] - 38s 19s/step - loss: 4.4406 - accuracy: 0.5781 - val_loss: 4.4456 - val_accuracy: 0.5385\n",
            "Epoch 17/50\n",
            "2/2 [==============================] - 41s 24s/step - loss: 4.4001 - accuracy: 0.6094 - val_loss: 4.4109 - val_accuracy: 0.5538\n",
            "Epoch 18/50\n",
            "2/2 [==============================] - 40s 22s/step - loss: 4.3582 - accuracy: 0.6094 - val_loss: 4.3699 - val_accuracy: 0.5538\n",
            "Epoch 19/50\n",
            "2/2 [==============================] - 36s 19s/step - loss: 4.3173 - accuracy: 0.6055 - val_loss: 4.3251 - val_accuracy: 0.5385\n",
            "Epoch 20/50\n",
            "2/2 [==============================] - 39s 19s/step - loss: 4.2746 - accuracy: 0.6211 - val_loss: 4.2969 - val_accuracy: 0.5385\n",
            "Epoch 21/50\n",
            "2/2 [==============================] - 40s 22s/step - loss: 4.2378 - accuracy: 0.5898 - val_loss: 4.2756 - val_accuracy: 0.5231\n",
            "Epoch 22/50\n",
            "2/2 [==============================] - 37s 19s/step - loss: 4.1918 - accuracy: 0.6328 - val_loss: 4.2256 - val_accuracy: 0.5538\n",
            "Epoch 23/50\n",
            "2/2 [==============================] - 39s 20s/step - loss: 4.1578 - accuracy: 0.6484 - val_loss: 4.2084 - val_accuracy: 0.5231\n",
            "Epoch 24/50\n",
            "2/2 [==============================] - 40s 23s/step - loss: 4.1264 - accuracy: 0.6406 - val_loss: 4.2011 - val_accuracy: 0.5538\n",
            "Epoch 25/50\n",
            "2/2 [==============================] - 36s 19s/step - loss: 4.0996 - accuracy: 0.6523 - val_loss: 4.1450 - val_accuracy: 0.5538\n",
            "Epoch 26/50\n",
            "2/2 [==============================] - 39s 19s/step - loss: 4.0692 - accuracy: 0.6445 - val_loss: 4.1512 - val_accuracy: 0.5538\n",
            "Epoch 27/50\n",
            "2/2 [==============================] - 41s 24s/step - loss: 4.0302 - accuracy: 0.6719 - val_loss: 4.1274 - val_accuracy: 0.5692\n",
            "Epoch 28/50\n",
            "2/2 [==============================] - 39s 22s/step - loss: 3.9985 - accuracy: 0.6719 - val_loss: 4.0797 - val_accuracy: 0.5846\n",
            "Epoch 29/50\n",
            "2/2 [==============================] - 37s 20s/step - loss: 3.9705 - accuracy: 0.6680 - val_loss: 4.0583 - val_accuracy: 0.5846\n",
            "Epoch 30/50\n",
            "2/2 [==============================] - 39s 19s/step - loss: 3.9368 - accuracy: 0.6875 - val_loss: 4.0648 - val_accuracy: 0.5846\n",
            "Epoch 31/50\n",
            "2/2 [==============================] - 39s 22s/step - loss: 3.9128 - accuracy: 0.7031 - val_loss: 4.0254 - val_accuracy: 0.6000\n",
            "Epoch 32/50\n",
            "2/2 [==============================] - 36s 19s/step - loss: 3.8984 - accuracy: 0.6953 - val_loss: 3.9877 - val_accuracy: 0.6154\n",
            "Epoch 33/50\n",
            "2/2 [==============================] - 40s 21s/step - loss: 3.8541 - accuracy: 0.7422 - val_loss: 3.9506 - val_accuracy: 0.5846\n",
            "Epoch 34/50\n",
            "2/2 [==============================] - 40s 22s/step - loss: 3.8340 - accuracy: 0.7344 - val_loss: 3.9662 - val_accuracy: 0.6154\n",
            "Epoch 35/50\n",
            "2/2 [==============================] - 37s 20s/step - loss: 3.8029 - accuracy: 0.7383 - val_loss: 3.9151 - val_accuracy: 0.6462\n",
            "Epoch 36/50\n",
            "2/2 [==============================] - 39s 20s/step - loss: 3.7703 - accuracy: 0.7695 - val_loss: 3.8902 - val_accuracy: 0.6615\n",
            "Epoch 37/50\n",
            "2/2 [==============================] - 41s 23s/step - loss: 3.7481 - accuracy: 0.7773 - val_loss: 3.8803 - val_accuracy: 0.6769\n",
            "Epoch 38/50\n",
            "2/2 [==============================] - 37s 20s/step - loss: 3.7194 - accuracy: 0.7812 - val_loss: 3.8374 - val_accuracy: 0.6769\n",
            "Epoch 39/50\n",
            "2/2 [==============================] - 39s 20s/step - loss: 3.6978 - accuracy: 0.7930 - val_loss: 3.8312 - val_accuracy: 0.6923\n",
            "Epoch 40/50\n",
            "2/2 [==============================] - 40s 22s/step - loss: 3.6656 - accuracy: 0.7891 - val_loss: 3.7836 - val_accuracy: 0.7385\n",
            "Epoch 41/50\n",
            "2/2 [==============================] - 37s 20s/step - loss: 3.6616 - accuracy: 0.7695 - val_loss: 3.7962 - val_accuracy: 0.7231\n",
            "Epoch 42/50\n",
            "2/2 [==============================] - 39s 20s/step - loss: 3.6175 - accuracy: 0.8203 - val_loss: 3.7178 - val_accuracy: 0.7231\n",
            "Epoch 43/50\n",
            "2/2 [==============================] - 39s 22s/step - loss: 3.5896 - accuracy: 0.8164 - val_loss: 3.7918 - val_accuracy: 0.6923\n",
            "Epoch 44/50\n",
            "2/2 [==============================] - 37s 20s/step - loss: 3.5699 - accuracy: 0.8242 - val_loss: 3.7326 - val_accuracy: 0.7385\n",
            "Epoch 45/50\n",
            "2/2 [==============================] - 39s 20s/step - loss: 3.5424 - accuracy: 0.8359 - val_loss: 3.6844 - val_accuracy: 0.7538\n",
            "Epoch 46/50\n",
            "2/2 [==============================] - 39s 22s/step - loss: 3.5119 - accuracy: 0.8438 - val_loss: 3.7310 - val_accuracy: 0.7077\n",
            "Epoch 47/50\n",
            "2/2 [==============================] - 39s 22s/step - loss: 3.5001 - accuracy: 0.8438 - val_loss: 3.6571 - val_accuracy: 0.7692\n",
            "Epoch 48/50\n",
            "2/2 [==============================] - 37s 20s/step - loss: 3.4794 - accuracy: 0.8281 - val_loss: 3.6299 - val_accuracy: 0.7846\n",
            "Epoch 49/50\n",
            "2/2 [==============================] - 40s 20s/step - loss: 3.4448 - accuracy: 0.8594 - val_loss: 3.7027 - val_accuracy: 0.6923\n",
            "Epoch 50/50\n",
            "2/2 [==============================] - 39s 22s/step - loss: 3.4336 - accuracy: 0.8672 - val_loss: 3.5998 - val_accuracy: 0.7846\n"
          ]
        }
      ]
    },
    {
      "cell_type": "markdown",
      "source": [
        "Here we analyse how the model is learning with each epoch in terms of accuracy."
      ],
      "metadata": {
        "id": "mvh63HALjcsr"
      }
    },
    {
      "cell_type": "markdown",
      "source": [],
      "metadata": {
        "id": "FbW5EgYcjeRh"
      }
    },
    {
      "cell_type": "code",
      "source": [
        "plt.figure(figsize=(12,5))\n",
        "plt.plot(history.history['accuracy'], color='r')\n",
        "plt.plot(history.history['val_accuracy'],color='b')\n",
        "plt.title('Model Accuracy')\n",
        "plt.xlabel('Accuracy')\n",
        "plt.ylabel('Epochs')\n",
        "plt.legend(['train','val'])\n",
        "\n",
        "plt.show()"
      ],
      "metadata": {
        "colab": {
          "base_uri": "https://localhost:8080/",
          "height": 360
        },
        "id": "BmiBRo4yW0Y2",
        "outputId": "309053bc-97dd-4598-c55d-bccd5f1597b3"
      },
      "execution_count": 35,
      "outputs": [
        {
          "output_type": "display_data",
          "data": {
            "text/plain": [
              "<Figure size 1200x500 with 1 Axes>"
            ],
            "image/png": "[encoded data removed]"
          },
          "metadata": {}
        }
      ]
    },
    {
      "cell_type": "markdown",
      "source": [
        "We will use predict function to make predictions using this model also we are finding out the accuracy on the test set."
      ],
      "metadata": {
        "id": "JN0u_aWMjiOy"
      }
    },
    {
      "cell_type": "code",
      "source": [
        "y_pred= model.predict(X_test)\n",
        "score=model.evaluate(X_test,y_test)\n",
        "print('Accuracy over the test set: \\n',round((score[1]*100),2), '%')"
      ],
      "metadata": {
        "colab": {
          "base_uri": "https://localhost:8080/"
        },
        "id": "AYSxNlUYgSeF",
        "outputId": "3cca905d-a52c-4b6c-91c2-a1fe820e025a"
      },
      "execution_count": 36,
      "outputs": [
        {
          "output_type": "stream",
          "name": "stdout",
          "text": [
            "2/2 [==============================] - 2s 185ms/step\n",
            "2/2 [==============================] - 2s 138ms/step - loss: 3.6366 - accuracy: 0.7222\n",
            "Accuracy over the test set: \n",
            " 72.22 %\n"
          ]
        }
      ]
    },
    {
      "cell_type": "markdown",
      "source": [
        "Here you can see image with its original and predicted label."
      ],
      "metadata": {
        "id": "8HBPTOKcjlYR"
      }
    },
    {
      "cell_type": "code",
      "source": [
        "plt.imshow(X_test[20,:,:,:])\n",
        "plt.show()\n",
        "\n",
        "print('Originally :', labels['breed'][np.argmax(y_test[20])])\n",
        "print('predicted :', labels['breed'][np.argmax(y_pred[20])])"
      ],
      "metadata": {
        "colab": {
          "base_uri": "https://localhost:8080/",
          "height": 470
        },
        "id": "IWBB6N8Bg3IC",
        "outputId": "f3019380-14a0-4d5f-f00a-d671f109345c"
      },
      "execution_count": 43,
      "outputs": [
        {
          "output_type": "display_data",
          "data": {
            "text/plain": [
              "<Figure size 640x480 with 1 Axes>"
            ],
            "image/png": "[encoded data removed]"
          },
          "metadata": {}
        },
        {
          "output_type": "stream",
          "name": "stdout",
          "text": [
            "Originally : maltese_dog\n",
            "predicted : maltese_dog\n"
          ]
        }
      ]
    },
    {
      "cell_type": "markdown",
      "source": [
        "# Conclusion"
      ],
      "metadata": {
        "id": "M-srSQVXjpGU"
      }
    },
    {
      "cell_type": "markdown",
      "source": [
        "We started with downloading the dataset creating the model and finding out the predictions using the model. We can optimize different hyper parameters in order to tune this model for a higher accuracy. This model can be used to predict different breeds of dogs which can be further used by different NGO's working on saving animals and for educational purposes also."
      ],
      "metadata": {
        "id": "YUnLhMe0joO5"
      }
    },
    {
      "cell_type": "code",
      "source": [],
      "metadata": {
        "id": "ygyxetoEhZ5y"
      },
      "execution_count": null,
      "outputs": []
    }
  ]
}